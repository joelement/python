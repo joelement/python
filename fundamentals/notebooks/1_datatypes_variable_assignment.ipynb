{
 "cells": [
  {
   "cell_type": "markdown",
   "id": "d1cd219b-4748-4ccb-904b-70921d3f9537",
   "metadata": {
    "nbgrader": {
     "grade": false,
     "grade_id": "cell-82c104abe9a2e197",
     "locked": true,
     "schema_version": 3,
     "solution": false,
     "task": false
    }
   },
   "source": [
    "# Datatypes & Variable Assignment\n",
    "\n",
    "<img src=\"https://media.giphy.com/media/v1.Y2lkPTc5MGI3NjExbWt4b3hxZGk0ZjhhNXU2ZzkxOTU0MHNrZDVuaXUyd2ZjMjh4enE0OCZlcD12MV9naWZzX3NlYXJjaCZjdD1n/V4NSR1NG2p0KeJJyr5/giphy.gif\" style=\"height:150px; width:600px\">\n",
    "\n",
    "There are many datatypes in Python. In fact, it is common for Python coders to generate custom datatypes. For this section, however, we will focus on the most common datatypes you can expect to encounter when writing Python code."
   ]
  },
  {
   "cell_type": "markdown",
   "id": "d8264f9d-9176-4c4e-a315-2c29bd2628c0",
   "metadata": {
    "nbgrader": {
     "grade": false,
     "grade_id": "cell-a52865f431643e85",
     "locked": true,
     "schema_version": 3,
     "solution": false,
     "task": false
    }
   },
   "source": [
    "## Float\n",
    "\n",
    "The `float` datatype in python is any number with a decimal point."
   ]
  },
  {
   "cell_type": "code",
   "execution_count": 12,
   "id": "220fbc9e-844d-4bc1-95e4-c0600a9262b8",
   "metadata": {
    "nbgrader": {
     "grade": false,
     "grade_id": "cell-8a7cce0f9fc30124",
     "locked": true,
     "schema_version": 3,
     "solution": false,
     "task": false
    }
   },
   "outputs": [
    {
     "data": {
      "text/plain": [
       "1.0"
      ]
     },
     "execution_count": 12,
     "metadata": {},
     "output_type": "execute_result"
    }
   ],
   "source": [
    "1.0"
   ]
  },
  {
   "cell_type": "markdown",
   "id": "dc5aa989-ed3e-47c4-85dd-f375fd15a3e2",
   "metadata": {
    "nbgrader": {
     "grade": false,
     "grade_id": "cell-e68e8f203856eb9e",
     "locked": true,
     "schema_version": 3,
     "solution": false,
     "task": false
    }
   },
   "source": [
    "We can output the type for the number by passing it into the `type` function"
   ]
  },
  {
   "cell_type": "code",
   "execution_count": 13,
   "id": "e027bab3-cbb9-48d5-a736-4c0251641320",
   "metadata": {
    "nbgrader": {
     "grade": false,
     "grade_id": "cell-515f582420a99ab1",
     "locked": true,
     "schema_version": 3,
     "solution": false,
     "task": false
    }
   },
   "outputs": [
    {
     "data": {
      "text/plain": [
       "float"
      ]
     },
     "execution_count": 13,
     "metadata": {},
     "output_type": "execute_result"
    }
   ],
   "source": [
    "type(1.0)"
   ]
  },
  {
   "cell_type": "markdown",
   "id": "c8fcaea3-340b-47b5-89f3-373d84e913c5",
   "metadata": {
    "nbgrader": {
     "grade": false,
     "grade_id": "cell-ea93cbc23547d28a",
     "locked": true,
     "schema_version": 3,
     "solution": false,
     "task": false
    }
   },
   "source": [
    "## Integer\n",
    "\n",
    "The `int` datatype in python is any number that does not have a decimal point. "
   ]
  },
  {
   "cell_type": "code",
   "execution_count": 9,
   "id": "c6583aab-5352-47c0-82b5-8ea8ad62d0fd",
   "metadata": {
    "nbgrader": {
     "grade": false,
     "grade_id": "cell-7ea352119df91189",
     "locked": true,
     "schema_version": 3,
     "solution": false,
     "task": false
    }
   },
   "outputs": [
    {
     "data": {
      "text/plain": [
       "1"
      ]
     },
     "execution_count": 9,
     "metadata": {},
     "output_type": "execute_result"
    }
   ],
   "source": [
    "1"
   ]
  },
  {
   "cell_type": "code",
   "execution_count": 10,
   "id": "4b7535f1-7392-4477-9fdf-c3e257010a92",
   "metadata": {
    "nbgrader": {
     "grade": false,
     "grade_id": "cell-368d96b035599348",
     "locked": true,
     "schema_version": 3,
     "solution": false,
     "task": false
    }
   },
   "outputs": [
    {
     "data": {
      "text/plain": [
       "int"
      ]
     },
     "execution_count": 10,
     "metadata": {},
     "output_type": "execute_result"
    }
   ],
   "source": [
    "type(1)"
   ]
  },
  {
   "cell_type": "markdown",
   "id": "3f9e8338-ee45-4b8b-8b92-75b82b562ca4",
   "metadata": {
    "nbgrader": {
     "grade": false,
     "grade_id": "cell-d7ad4488ea8df86d",
     "locked": true,
     "schema_version": 3,
     "solution": false,
     "task": false
    }
   },
   "source": [
    "##### Converting a number to float or integer"
   ]
  },
  {
   "cell_type": "markdown",
   "id": "44c03a06-33ac-434a-b94b-16780674a44c",
   "metadata": {
    "nbgrader": {
     "grade": false,
     "grade_id": "cell-ee814cd58b5c652a",
     "locked": true,
     "schema_version": 3,
     "solution": false,
     "task": false
    }
   },
   "source": [
    "In python, sometimes your code will require that a number is either an integer or a float. Luckily, it is very easy to convert a number to either datatype. \n",
    "\n",
    "**Float to Integer**"
   ]
  },
  {
   "cell_type": "code",
   "execution_count": 16,
   "id": "3430d90b-1b3d-4c92-a7af-24ba6a6d89dc",
   "metadata": {
    "nbgrader": {
     "grade": false,
     "grade_id": "cell-58ef8dda383f7199",
     "locked": true,
     "schema_version": 3,
     "solution": false,
     "task": false
    }
   },
   "outputs": [
    {
     "data": {
      "text/plain": [
       "1"
      ]
     },
     "execution_count": 16,
     "metadata": {},
     "output_type": "execute_result"
    }
   ],
   "source": [
    "int(1.0)"
   ]
  },
  {
   "cell_type": "markdown",
   "id": "37b6d8a1-2c24-45f7-abeb-83dda99bafd7",
   "metadata": {
    "nbgrader": {
     "grade": false,
     "grade_id": "cell-6250e283769693ae",
     "locked": true,
     "schema_version": 3,
     "solution": false,
     "task": false
    }
   },
   "source": [
    "**Integer to Float**"
   ]
  },
  {
   "cell_type": "code",
   "execution_count": 17,
   "id": "33db044f-061a-4d4c-b1db-272028869e85",
   "metadata": {
    "nbgrader": {
     "grade": false,
     "grade_id": "cell-8fb47ae1c248b020",
     "locked": true,
     "schema_version": 3,
     "solution": false,
     "task": false
    }
   },
   "outputs": [
    {
     "data": {
      "text/plain": [
       "1.0"
      ]
     },
     "execution_count": 17,
     "metadata": {},
     "output_type": "execute_result"
    }
   ],
   "source": [
    "float(1)"
   ]
  },
  {
   "cell_type": "markdown",
   "id": "6e7be7be-3ba2-4028-8d46-6be00c2197b6",
   "metadata": {
    "nbgrader": {
     "grade": false,
     "grade_id": "cell-147b0202c713a037",
     "locked": true,
     "schema_version": 3,
     "solution": false,
     "task": false
    }
   },
   "source": [
    "## String\n",
    "\n",
    "A string datatype is essentially just **text**. If you want to analyze or manipulate the phrase `Hello World`, all you need to do is wrap the phrase in quotation marks. \n",
    "\n",
    "**Single quotation marks**"
   ]
  },
  {
   "cell_type": "code",
   "execution_count": 18,
   "id": "2bace1ec-346d-43f0-aeb5-5aa2ecd9a140",
   "metadata": {
    "nbgrader": {
     "grade": false,
     "grade_id": "cell-16d8e01f938f7e55",
     "locked": true,
     "schema_version": 3,
     "solution": false,
     "task": false
    }
   },
   "outputs": [
    {
     "data": {
      "text/plain": [
       "'Hello World'"
      ]
     },
     "execution_count": 18,
     "metadata": {},
     "output_type": "execute_result"
    }
   ],
   "source": [
    "'Hello World'"
   ]
  },
  {
   "cell_type": "markdown",
   "id": "e7dd2da5-e190-491b-915e-03b8e43de0e6",
   "metadata": {
    "nbgrader": {
     "grade": false,
     "grade_id": "cell-a6cc55b91aa9c3ee",
     "locked": true,
     "schema_version": 3,
     "solution": false,
     "task": false
    }
   },
   "source": [
    "**Double quotation marks**"
   ]
  },
  {
   "cell_type": "code",
   "execution_count": 19,
   "id": "cbdbaede-5a64-48d8-a9a5-b7dcfe7f0232",
   "metadata": {
    "nbgrader": {
     "grade": false,
     "grade_id": "cell-c30ee037471334ff",
     "locked": true,
     "schema_version": 3,
     "solution": false,
     "task": false
    }
   },
   "outputs": [
    {
     "data": {
      "text/plain": [
       "'Hello World'"
      ]
     },
     "execution_count": 19,
     "metadata": {},
     "output_type": "execute_result"
    }
   ],
   "source": [
    "\"Hello World\""
   ]
  },
  {
   "cell_type": "markdown",
   "id": "ff91aede-9573-4fd3-976e-c78488b99f34",
   "metadata": {
    "nbgrader": {
     "grade": false,
     "grade_id": "cell-7bb5d356ccfa6198",
     "locked": true,
     "schema_version": 3,
     "solution": false,
     "task": false
    }
   },
   "source": [
    "**Should I use single or double quotation marks?**\n",
    "\n",
    "In most cases, it really doesn't matter. Within a single code file, it is usually best to keep it consistent, so you should just pick single or double and stick with it. \n",
    "\n",
    "If the text you are using has an `'` symbol...so if the text has the word `it's` for example, quotation marks become a little tricky..."
   ]
  },
  {
   "cell_type": "code",
   "execution_count": 20,
   "id": "7636fb6a-8893-4ce0-85d0-8b1d14be7cfe",
   "metadata": {
    "nbgrader": {
     "grade": false,
     "grade_id": "cell-ed5b41a4c2c040f4",
     "locked": true,
     "schema_version": 3,
     "solution": false,
     "task": false
    }
   },
   "outputs": [
    {
     "ename": "SyntaxError",
     "evalue": "invalid syntax (1023783863.py, line 1)",
     "output_type": "error",
     "traceback": [
      "\u001b[0;36m  Cell \u001b[0;32mIn[20], line 1\u001b[0;36m\u001b[0m\n\u001b[0;31m    'it's'\u001b[0m\n\u001b[0m        ^\u001b[0m\n\u001b[0;31mSyntaxError\u001b[0m\u001b[0;31m:\u001b[0m invalid syntax\n"
     ]
    }
   ],
   "source": [
    "'it's'"
   ]
  },
  {
   "cell_type": "markdown",
   "id": "8c1c7231-6705-48c9-8a8d-e003f2f18f30",
   "metadata": {
    "nbgrader": {
     "grade": false,
     "grade_id": "cell-b3a3c7bb01c94da6",
     "locked": true,
     "schema_version": 3,
     "solution": false,
     "task": false
    }
   },
   "source": [
    "As you can see, the code above breaks...\n",
    "\n",
    "This is because Python sees the second single quotation mark, which is apart of the word `it's` as the closing quotation mark. To get around this, the easiest solution is to use double quotation marks..."
   ]
  },
  {
   "cell_type": "code",
   "execution_count": 21,
   "id": "360c06f2-36bd-4b1d-9e36-40e566f53727",
   "metadata": {
    "nbgrader": {
     "grade": false,
     "grade_id": "cell-817cf635accead2f",
     "locked": true,
     "schema_version": 3,
     "solution": false,
     "task": false
    }
   },
   "outputs": [
    {
     "data": {
      "text/plain": [
       "\"it's\""
      ]
     },
     "execution_count": 21,
     "metadata": {},
     "output_type": "execute_result"
    }
   ],
   "source": [
    "\"it's\""
   ]
  },
  {
   "cell_type": "markdown",
   "id": "251ce2a9-f2da-40d9-a991-120489b3c084",
   "metadata": {
    "nbgrader": {
     "grade": false,
     "grade_id": "cell-6be5e8ed469f2b83",
     "locked": true,
     "schema_version": 3,
     "solution": false,
     "task": false
    }
   },
   "source": [
    "Alternatively, you can place the backslash character `\\` before the second quotation mark"
   ]
  },
  {
   "cell_type": "code",
   "execution_count": 22,
   "id": "162560f8-3f71-48a3-a1e5-1cbc5132e2f9",
   "metadata": {
    "nbgrader": {
     "grade": false,
     "grade_id": "cell-7e6e8c2c350e51ae",
     "locked": true,
     "schema_version": 3,
     "solution": false,
     "task": false
    }
   },
   "outputs": [
    {
     "data": {
      "text/plain": [
       "\"it's\""
      ]
     },
     "execution_count": 22,
     "metadata": {},
     "output_type": "execute_result"
    }
   ],
   "source": [
    "'it\\'s'"
   ]
  },
  {
   "cell_type": "markdown",
   "id": "553ec83b-2f9f-41d7-bf7a-294a242edd58",
   "metadata": {
    "nbgrader": {
     "grade": false,
     "grade_id": "cell-d3aa36d5e8fa13e4",
     "locked": true,
     "schema_version": 3,
     "solution": false,
     "task": false
    }
   },
   "source": [
    "The same logic applies to sentences that contain a quotation..."
   ]
  },
  {
   "cell_type": "code",
   "execution_count": 23,
   "id": "128a4719-9e6f-4458-8baa-52354272be67",
   "metadata": {
    "nbgrader": {
     "grade": false,
     "grade_id": "cell-3bcd716651e5b94f",
     "locked": true,
     "schema_version": 3,
     "solution": false,
     "task": false
    }
   },
   "outputs": [
    {
     "ename": "SyntaxError",
     "evalue": "invalid syntax (2711108402.py, line 1)",
     "output_type": "error",
     "traceback": [
      "\u001b[0;36m  Cell \u001b[0;32mIn[23], line 1\u001b[0;36m\u001b[0m\n\u001b[0;31m    \"\"Hello world\", he said\"\u001b[0m\n\u001b[0m      ^\u001b[0m\n\u001b[0;31mSyntaxError\u001b[0m\u001b[0;31m:\u001b[0m invalid syntax\n"
     ]
    }
   ],
   "source": [
    "\"\"Hello world\", he said\""
   ]
  },
  {
   "cell_type": "markdown",
   "id": "71ac8a53-ddd7-40af-a555-126d35beea97",
   "metadata": {
    "nbgrader": {
     "grade": false,
     "grade_id": "cell-451c5a23915a29e3",
     "locked": true,
     "schema_version": 3,
     "solution": false,
     "task": false
    }
   },
   "source": [
    "In this case, single quotation marks is the easiest solution"
   ]
  },
  {
   "cell_type": "code",
   "execution_count": 24,
   "id": "ee0e9b0d-0b2e-4584-ad3b-4841b13a4498",
   "metadata": {
    "nbgrader": {
     "grade": false,
     "grade_id": "cell-f6430f8b537afb61",
     "locked": true,
     "schema_version": 3,
     "solution": false,
     "task": false
    }
   },
   "outputs": [
    {
     "data": {
      "text/plain": [
       "'\"Hello World\", he said'"
      ]
     },
     "execution_count": 24,
     "metadata": {},
     "output_type": "execute_result"
    }
   ],
   "source": [
    "'\"Hello World\", he said'"
   ]
  },
  {
   "cell_type": "markdown",
   "id": "86b3fae3-3f75-4968-9f00-0b2260bf1777",
   "metadata": {
    "nbgrader": {
     "grade": false,
     "grade_id": "cell-7f65af8b7d0378e1",
     "locked": true,
     "schema_version": 3,
     "solution": false,
     "task": false
    }
   },
   "source": [
    "**Triple Quotation Marks**\n",
    "\n",
    "A solution for all quotation problems in python is to use triple quotation marks"
   ]
  },
  {
   "cell_type": "code",
   "execution_count": 25,
   "id": "4edba970-61c5-4cde-a5a6-e5aacc3c8a2a",
   "metadata": {
    "nbgrader": {
     "grade": false,
     "grade_id": "cell-995261f2b991522c",
     "locked": true,
     "schema_version": 3,
     "solution": false,
     "task": false
    }
   },
   "outputs": [
    {
     "data": {
      "text/plain": [
       "\"It's possible to use quotation marks however I please when I use triple quotes\""
      ]
     },
     "execution_count": 25,
     "metadata": {},
     "output_type": "execute_result"
    }
   ],
   "source": [
    "'''It's possible to use quotation marks however I please when I use triple quotes'''"
   ]
  },
  {
   "cell_type": "markdown",
   "id": "7c266f2a-996c-450f-9a63-6b448d780723",
   "metadata": {
    "nbgrader": {
     "grade": false,
     "grade_id": "cell-d00d53f67ef52c81",
     "locked": true,
     "schema_version": 3,
     "solution": false,
     "task": false
    }
   },
   "source": [
    "An nice features that comes with triple quotes is you can start new lines...this is not possible with single quotes"
   ]
  },
  {
   "cell_type": "code",
   "execution_count": 27,
   "id": "df929076-0506-46df-a54a-d614ecd004bc",
   "metadata": {
    "nbgrader": {
     "grade": false,
     "grade_id": "cell-e5bd009e455abdfd",
     "locked": true,
     "schema_version": 3,
     "solution": false,
     "task": false
    }
   },
   "outputs": [
    {
     "ename": "SyntaxError",
     "evalue": "EOL while scanning string literal (326759178.py, line 1)",
     "output_type": "error",
     "traceback": [
      "\u001b[0;36m  Cell \u001b[0;32mIn[27], line 1\u001b[0;36m\u001b[0m\n\u001b[0;31m    'If I start\u001b[0m\n\u001b[0m               ^\u001b[0m\n\u001b[0;31mSyntaxError\u001b[0m\u001b[0;31m:\u001b[0m EOL while scanning string literal\n"
     ]
    }
   ],
   "source": [
    "'If I start\n",
    "\n",
    "a new line the code will break'"
   ]
  },
  {
   "cell_type": "code",
   "execution_count": 28,
   "id": "b169313f-85e4-40e5-93f3-ce437ef8ce97",
   "metadata": {
    "nbgrader": {
     "grade": false,
     "grade_id": "cell-46bcbbb7f073893f",
     "locked": true,
     "schema_version": 3,
     "solution": false,
     "task": false
    }
   },
   "outputs": [
    {
     "data": {
      "text/plain": [
       "'If I start\\n\\na new line the code works!'"
      ]
     },
     "execution_count": 28,
     "metadata": {},
     "output_type": "execute_result"
    }
   ],
   "source": [
    "'''If I start\n",
    "\n",
    "a new line the code works!'''"
   ]
  },
  {
   "cell_type": "markdown",
   "id": "6a21dbb6-07cf-47ed-9287-396ad9f5f9d9",
   "metadata": {
    "nbgrader": {
     "grade": false,
     "grade_id": "cell-83308e91f56e2c09",
     "locked": true,
     "schema_version": 3,
     "solution": false,
     "task": false
    }
   },
   "source": [
    "Notice the `\\n` in the output above. That is the character the computer uses to indicate \"new line\".\n",
    "\n",
    "You can \"render\" the new line by passing the string into the `print` function."
   ]
  },
  {
   "cell_type": "code",
   "execution_count": 31,
   "id": "1a375e0b-d5a1-4196-9764-02f90202c390",
   "metadata": {
    "nbgrader": {
     "grade": false,
     "grade_id": "cell-d935f51e85851f60",
     "locked": true,
     "schema_version": 3,
     "solution": false,
     "task": false
    }
   },
   "outputs": [
    {
     "name": "stdout",
     "output_type": "stream",
     "text": [
      "I can start\n",
      "a new line with single quote with \"\\n\"\n"
     ]
    }
   ],
   "source": [
    "print('I can start\\na new line with single quote with \"\\\\n\"')"
   ]
  },
  {
   "cell_type": "markdown",
   "id": "1a0bc16c-00ac-41f2-84cb-3da809393493",
   "metadata": {
    "nbgrader": {
     "grade": false,
     "grade_id": "cell-22bb40c4c3c5ee2c",
     "locked": true,
     "schema_version": 3,
     "solution": false,
     "task": false
    }
   },
   "source": [
    "**Ok, that's enough on strings...for now**\n",
    "\n",
    "![](https://media.giphy.com/media/v1.Y2lkPTc5MGI3NjExaGtzcnNhdmFxNDg3YWU5eTZ5bXd5NnU1NXVxbnJleXRseXl3bGNoaiZlcD12MV9pbnRlcm5hbF9naWZfYnlfaWQmY3Q9Zw/ouE6OPO1MADM4/giphy.gif)"
   ]
  },
  {
   "cell_type": "markdown",
   "id": "9c97df44-72d5-4011-81be-71f36d7b8c4f",
   "metadata": {
    "nbgrader": {
     "grade": false,
     "grade_id": "cell-906a7b8a29dcd917",
     "locked": true,
     "schema_version": 3,
     "solution": false,
     "task": false
    }
   },
   "source": [
    "## List\n",
    "\n",
    "`list` datatypes are a container datatype, which means lists functions as a storage container for other datatypes. lists are generated by wrapping other data (integers, floats, strings, etc) inside square brackets `[]`"
   ]
  },
  {
   "cell_type": "code",
   "execution_count": 32,
   "id": "3909ede7-e7f6-4427-b75f-7c4f5ce3f488",
   "metadata": {
    "nbgrader": {
     "grade": false,
     "grade_id": "cell-684788677a91dd62",
     "locked": true,
     "schema_version": 3,
     "solution": false,
     "task": false
    }
   },
   "outputs": [
    {
     "data": {
      "text/plain": [
       "[1, 2, 3, 4]"
      ]
     },
     "execution_count": 32,
     "metadata": {},
     "output_type": "execute_result"
    }
   ],
   "source": [
    "[1,2,3,4]"
   ]
  },
  {
   "cell_type": "code",
   "execution_count": 33,
   "id": "78bc67a0-d55d-429f-b671-e7837fe944e0",
   "metadata": {
    "nbgrader": {
     "grade": false,
     "grade_id": "cell-a33dd8fdcafb6c21",
     "locked": true,
     "schema_version": 3,
     "solution": false,
     "task": false
    }
   },
   "outputs": [
    {
     "data": {
      "text/plain": [
       "list"
      ]
     },
     "execution_count": 33,
     "metadata": {},
     "output_type": "execute_result"
    }
   ],
   "source": [
    "type([1,2,3,4])"
   ]
  },
  {
   "cell_type": "markdown",
   "id": "eab3c02c-4612-4949-a772-f92e1b0927c7",
   "metadata": {
    "nbgrader": {
     "grade": false,
     "grade_id": "cell-2118d765a989e4c5",
     "locked": true,
     "schema_version": 3,
     "solution": false,
     "task": false
    }
   },
   "source": [
    "In the example above, the list only contains integers, but lists can hold all kinds of datatypes"
   ]
  },
  {
   "cell_type": "code",
   "execution_count": 34,
   "id": "3600dada-5018-417b-8c33-9009f6ee0509",
   "metadata": {
    "nbgrader": {
     "grade": false,
     "grade_id": "cell-78f4662561d68f28",
     "locked": true,
     "schema_version": 3,
     "solution": false,
     "task": false
    }
   },
   "outputs": [
    {
     "data": {
      "text/plain": [
       "[1, 2.0, 'A string']"
      ]
     },
     "execution_count": 34,
     "metadata": {},
     "output_type": "execute_result"
    }
   ],
   "source": [
    "[1,2.0, 'A string']"
   ]
  },
  {
   "cell_type": "markdown",
   "id": "766b53ac-076f-4274-9312-b0f1b5a5081e",
   "metadata": {
    "nbgrader": {
     "grade": false,
     "grade_id": "cell-9ba2b8113dbad4ee",
     "locked": true,
     "schema_version": 3,
     "solution": false,
     "task": false
    }
   },
   "source": [
    "**Note the syntax of lists has two rules**\n",
    "1. The list starts and ends with square brackets\n",
    "2. All items in the list are seperated by commas"
   ]
  },
  {
   "cell_type": "markdown",
   "id": "c762110e-17b5-41f0-8e3d-c39fb2dfc214",
   "metadata": {
    "nbgrader": {
     "grade": false,
     "grade_id": "cell-ab1478a8c362525e",
     "locked": true,
     "schema_version": 3,
     "solution": false,
     "task": false
    }
   },
   "source": [
    "## Tuple\n",
    "\n",
    "A tuple looks a lot like a list, but instead of square brackets, you use parentheses `()`.\n",
    "\n",
    "A `tuple` is the default container in python.\n",
    "\n",
    "If you were to just type a bunch of data, seperated by commas, Python ouputs them inside a tuple"
   ]
  },
  {
   "cell_type": "code",
   "execution_count": 36,
   "id": "57a7ae3e-46af-4426-8bda-56d3011a1d56",
   "metadata": {
    "nbgrader": {
     "grade": false,
     "grade_id": "cell-d6471bd368666ada",
     "locked": true,
     "schema_version": 3,
     "solution": false,
     "task": false
    }
   },
   "outputs": [
    {
     "data": {
      "text/plain": [
       "(1, 2, 3, 'a string')"
      ]
     },
     "execution_count": 36,
     "metadata": {},
     "output_type": "execute_result"
    }
   ],
   "source": [
    "1,2,3,'a string'"
   ]
  },
  {
   "cell_type": "markdown",
   "id": "aeb8a12f-5e65-4f1d-a82e-cf00cd85b8f5",
   "metadata": {
    "nbgrader": {
     "grade": false,
     "grade_id": "cell-46518809f4fc2750",
     "locked": true,
     "schema_version": 3,
     "solution": false,
     "task": false
    }
   },
   "source": [
    "Generally, though, you should try to always explicitly type the parentheses..."
   ]
  },
  {
   "cell_type": "code",
   "execution_count": 41,
   "id": "e29778c1-776f-4134-8242-23b60a65c990",
   "metadata": {
    "nbgrader": {
     "grade": false,
     "grade_id": "cell-15f27526991745c7",
     "locked": true,
     "schema_version": 3,
     "solution": false,
     "task": false
    }
   },
   "outputs": [
    {
     "data": {
      "text/plain": [
       "(1, 2, 3, 4)"
      ]
     },
     "execution_count": 41,
     "metadata": {},
     "output_type": "execute_result"
    }
   ],
   "source": [
    "(1,2,3,4)"
   ]
  },
  {
   "cell_type": "markdown",
   "id": "2b32b2d7-7742-4607-989b-30d446706d64",
   "metadata": {
    "nbgrader": {
     "grade": false,
     "grade_id": "cell-79e64325d19da90b",
     "locked": true,
     "schema_version": 3,
     "solution": false,
     "task": false
    }
   },
   "source": [
    "**Converting to tuple or list**\n",
    "\n",
    "Similar to how you can convert an integer into a float, you can easily convert a tuple to a list and vice versa."
   ]
  },
  {
   "cell_type": "code",
   "execution_count": 42,
   "id": "fa0fd0e5-d004-4699-b0ca-5c19bb35f610",
   "metadata": {
    "nbgrader": {
     "grade": false,
     "grade_id": "cell-fd3bdc039379f69c",
     "locked": true,
     "schema_version": 3,
     "solution": false,
     "task": false
    }
   },
   "outputs": [
    {
     "data": {
      "text/plain": [
       "[1, 2, 3, 4]"
      ]
     },
     "execution_count": 42,
     "metadata": {},
     "output_type": "execute_result"
    }
   ],
   "source": [
    "list((1,2,3,4))"
   ]
  },
  {
   "cell_type": "code",
   "execution_count": 43,
   "id": "8574e605-99f2-4f2e-b8be-cf6dcb37b7f6",
   "metadata": {
    "nbgrader": {
     "grade": false,
     "grade_id": "cell-6d50fb4c66db657a",
     "locked": true,
     "schema_version": 3,
     "solution": false,
     "task": false
    }
   },
   "outputs": [
    {
     "data": {
      "text/plain": [
       "(1, 2, 3, 4)"
      ]
     },
     "execution_count": 43,
     "metadata": {},
     "output_type": "execute_result"
    }
   ],
   "source": [
    "tuple([1,2,3,4])"
   ]
  },
  {
   "cell_type": "markdown",
   "id": "3eaa2b9d-2494-4614-8130-3a68c06b6f4c",
   "metadata": {
    "nbgrader": {
     "grade": false,
     "grade_id": "cell-188e3b01a0063a19",
     "locked": true,
     "schema_version": 3,
     "solution": false,
     "task": false
    }
   },
   "source": [
    "## Set\n",
    "\n",
    "A set looks a lot like lists and tuples. The only visual different is that sets use curly brackets `{}`."
   ]
  },
  {
   "cell_type": "code",
   "execution_count": 95,
   "id": "f3c5eea8-8af3-4f2c-bb80-15f0f499598c",
   "metadata": {
    "nbgrader": {
     "grade": false,
     "grade_id": "cell-7b8a8352edf215df",
     "locked": true,
     "schema_version": 3,
     "solution": false,
     "task": false
    }
   },
   "outputs": [
    {
     "data": {
      "text/plain": [
       "{1, 2, 3, 4}"
      ]
     },
     "execution_count": 95,
     "metadata": {},
     "output_type": "execute_result"
    }
   ],
   "source": [
    "{1,2,3,4}"
   ]
  },
  {
   "cell_type": "markdown",
   "id": "0ea5b2de-f546-48d0-8d68-4d1a4728c3a0",
   "metadata": {
    "nbgrader": {
     "grade": false,
     "grade_id": "cell-301269cb3e009ee8",
     "locked": true,
     "schema_version": 3,
     "solution": false,
     "task": false
    }
   },
   "source": [
    "Sets are mostly used to remove duplication of elements. Dupliction is not possible in a set. If a duplicate datapoint is added to a set, it is immediately removed."
   ]
  },
  {
   "cell_type": "code",
   "execution_count": 100,
   "id": "573376ea-1538-4cd4-a247-3b921f6e1d80",
   "metadata": {
    "nbgrader": {
     "grade": false,
     "grade_id": "cell-21576a7cfc0ae69d",
     "locked": true,
     "schema_version": 3,
     "solution": false,
     "task": false
    }
   },
   "outputs": [
    {
     "data": {
      "text/plain": [
       "{2, 3}"
      ]
     },
     "execution_count": 100,
     "metadata": {},
     "output_type": "execute_result"
    }
   ],
   "source": [
    "{2,2,2,2,2,2,2,2,3,2,2,2,2}"
   ]
  },
  {
   "cell_type": "markdown",
   "id": "e9cd95e0-3010-4daa-99f0-ae461745765d",
   "metadata": {
    "nbgrader": {
     "grade": false,
     "grade_id": "cell-12d88a110396a516",
     "locked": true,
     "schema_version": 3,
     "solution": false,
     "task": false
    }
   },
   "source": [
    "This can be quite handy. You could for instance convert a list with duplicate values into a set, which results in a container of unique values!"
   ]
  },
  {
   "cell_type": "code",
   "execution_count": 101,
   "id": "d69ac569-413b-4513-81aa-75ec66505190",
   "metadata": {
    "nbgrader": {
     "grade": false,
     "grade_id": "cell-39b3ffd391c8ac5a",
     "locked": true,
     "schema_version": 3,
     "solution": false,
     "task": false
    }
   },
   "outputs": [
    {
     "data": {
      "text/plain": [
       "{1, 2, 3, 4}"
      ]
     },
     "execution_count": 101,
     "metadata": {},
     "output_type": "execute_result"
    }
   ],
   "source": [
    "set([1,2,3,4,3,2,3,2,2,2])"
   ]
  },
  {
   "cell_type": "markdown",
   "id": "91712baf-d89b-4b0f-a937-349b7f107dde",
   "metadata": {
    "nbgrader": {
     "grade": false,
     "grade_id": "cell-92c4efcc71905b24",
     "locked": true,
     "schema_version": 3,
     "solution": false,
     "task": false
    }
   },
   "source": [
    "## Dictionary\n",
    "\n",
    "A dictionary is another container datatype. The syntax for dictionaries is a bit more complicated. A dictionary looks like this:\n",
    "```\n",
    "{key1: value1, key2: value2, key3: value3}\n",
    "```\n",
    "\n",
    "The \"keys\" of a dictionary are usually strings, but they can be integers, floats, or tuples as well. \n",
    "\n",
    "The idea behind a dictionary is that we commonly have information we can \"classify\". This is where the keys becomes useful. \n",
    "\n",
    "Let's say for instance you wanted to organize all of your monthly bills into a dictionary. It could look like this..."
   ]
  },
  {
   "cell_type": "code",
   "execution_count": 102,
   "id": "2007549e-d3f2-4673-8fa8-d365888f7d83",
   "metadata": {
    "nbgrader": {
     "grade": false,
     "grade_id": "cell-ce00c29794f0d87c",
     "locked": true,
     "schema_version": 3,
     "solution": false,
     "task": false
    }
   },
   "outputs": [
    {
     "data": {
      "text/plain": [
       "{'rent': 800, 'electric': 50, 'gas': 50}"
      ]
     },
     "execution_count": 102,
     "metadata": {},
     "output_type": "execute_result"
    }
   ],
   "source": [
    "{\"rent\": 800, \"electric\": 50, \"gas\": 50}"
   ]
  },
  {
   "cell_type": "markdown",
   "id": "002efc94-c440-462b-a600-575d5fabba80",
   "metadata": {
    "nbgrader": {
     "grade": false,
     "grade_id": "cell-40c6a4c72bf8abd5",
     "locked": true,
     "schema_version": 3,
     "solution": false,
     "task": false
    }
   },
   "source": [
    "## Indexing"
   ]
  },
  {
   "cell_type": "markdown",
   "id": "929b74ce-6a4c-411a-8cba-3f0c1b480a1f",
   "metadata": {
    "nbgrader": {
     "grade": false,
     "grade_id": "cell-a221a9e6082dc7a9",
     "locked": true,
     "schema_version": 3,
     "solution": false,
     "task": false
    }
   },
   "source": [
    "### Lists, Tuples"
   ]
  },
  {
   "cell_type": "markdown",
   "id": "70f757e0-dc83-4358-ba47-a05ac6dda6d2",
   "metadata": {
    "nbgrader": {
     "grade": false,
     "grade_id": "cell-55e2370944d653c3",
     "locked": true,
     "schema_version": 3,
     "solution": false,
     "task": false
    }
   },
   "source": [
    "It's fun that we're able to store our integers, floats, and strings inside a list or tuple, but how do we _access_ them once they've been stored there?\n",
    "\n",
    "We can do this by \"indexing\" the container.\n",
    "\n",
    "**Let's say we have a list or tuple containing the names of colors...**\n",
    "\n",
    "![](../static/positive-indexes.png)\n",
    "\n",
    "When we create the list or tuple, every value inside is automatically assigned a number based on the value's location within the container. This number is known as an \"index\"\n",
    "- The _first_ value in the container is assigned the index 0.\n",
    "- The _second_ value in the container is assigned the index 1.\n",
    "- The index continues to increment by 1 for ever value in the container.\n",
    "\n",
    "**To access the value at index `0`, all we have to do is place `[0]` at the end of the container**"
   ]
  },
  {
   "cell_type": "code",
   "execution_count": 46,
   "id": "df9b1ea9-3540-459d-8f01-4c7e739825fa",
   "metadata": {
    "nbgrader": {
     "grade": false,
     "grade_id": "cell-9d089577ac9dc1b4",
     "locked": true,
     "schema_version": 3,
     "solution": false,
     "task": false
    }
   },
   "outputs": [
    {
     "data": {
      "text/plain": [
       "'red'"
      ]
     },
     "execution_count": 46,
     "metadata": {},
     "output_type": "execute_result"
    }
   ],
   "source": [
    "['red', 'green', 'blue', 'yellow', 'white', 'black'][0]"
   ]
  },
  {
   "cell_type": "code",
   "execution_count": 47,
   "id": "5b337c5f-8a15-4f6f-aa0e-4e493ee4701e",
   "metadata": {
    "nbgrader": {
     "grade": false,
     "grade_id": "cell-6111176b24f99dd8",
     "locked": true,
     "schema_version": 3,
     "solution": false,
     "task": false
    }
   },
   "outputs": [
    {
     "data": {
      "text/plain": [
       "'red'"
      ]
     },
     "execution_count": 47,
     "metadata": {},
     "output_type": "execute_result"
    }
   ],
   "source": [
    "('red', 'green', 'blue', 'yellow', 'white', 'black')[0]"
   ]
  },
  {
   "cell_type": "markdown",
   "id": "7144461f-7882-4096-a2e1-49bd2e0b2a0d",
   "metadata": {
    "nbgrader": {
     "grade": false,
     "grade_id": "cell-8532891ba923040a",
     "locked": true,
     "schema_version": 3,
     "solution": false,
     "task": false
    }
   },
   "source": [
    "**We can access any index value using the same syntax `container[index]`**"
   ]
  },
  {
   "cell_type": "code",
   "execution_count": 48,
   "id": "832e65d0-4da9-404e-8df1-4790db2328de",
   "metadata": {
    "nbgrader": {
     "grade": false,
     "grade_id": "cell-7ac3f40ce7408a85",
     "locked": true,
     "schema_version": 3,
     "solution": false,
     "task": false
    }
   },
   "outputs": [
    {
     "data": {
      "text/plain": [
       "'white'"
      ]
     },
     "execution_count": 48,
     "metadata": {},
     "output_type": "execute_result"
    }
   ],
   "source": [
    "('red', 'green', 'blue', 'yellow', 'white', 'black')[4]"
   ]
  },
  {
   "cell_type": "markdown",
   "id": "96d840d7-08e9-41cb-b0b9-b46b9d952278",
   "metadata": {
    "nbgrader": {
     "grade": false,
     "grade_id": "cell-5d43aa43bc8a176a",
     "locked": true,
     "schema_version": 3,
     "solution": false,
     "task": false
    }
   },
   "source": [
    "#### Index Slicing (Indexing multiple values)\n",
    "\n",
    "In the above examples, we only indexed a single value out of a container. But what if, instead of isolating the third value, we want to isolate the first 3 values? We can do this with slicing. \n",
    "\n",
    "To slice a container, you place a colon `:` before or after an index number. \n",
    "\n",
    "In the example below, we place a colon before the number `3`, which tells the computer \"Output the first three values in the list\""
   ]
  },
  {
   "cell_type": "code",
   "execution_count": 60,
   "id": "c2bc0121-3504-4696-a1a7-0467e17346a7",
   "metadata": {
    "nbgrader": {
     "grade": false,
     "grade_id": "cell-ba5ff3724e4ee9c3",
     "locked": true,
     "schema_version": 3,
     "solution": false,
     "task": false
    }
   },
   "outputs": [
    {
     "data": {
      "text/plain": [
       "[1, 2, 3]"
      ]
     },
     "execution_count": 60,
     "metadata": {},
     "output_type": "execute_result"
    }
   ],
   "source": [
    "[1,2,3,4][:3]"
   ]
  },
  {
   "cell_type": "markdown",
   "id": "b7f1886e-55c0-4a6d-a979-507daed85dc1",
   "metadata": {
    "nbgrader": {
     "grade": false,
     "grade_id": "cell-bc520c5535890ca1",
     "locked": true,
     "schema_version": 3,
     "solution": false,
     "task": false
    }
   },
   "source": [
    "We can also place the colon after the number to output everything _after_ the first three values"
   ]
  },
  {
   "cell_type": "code",
   "execution_count": 62,
   "id": "a0e3f6ea-bd7e-4fe7-8b8b-bd1d77f9a452",
   "metadata": {
    "nbgrader": {
     "grade": false,
     "grade_id": "cell-37ccfa69be787b85",
     "locked": true,
     "schema_version": 3,
     "solution": false,
     "task": false
    }
   },
   "outputs": [
    {
     "data": {
      "text/plain": [
       "[4, 5, 6]"
      ]
     },
     "execution_count": 62,
     "metadata": {},
     "output_type": "execute_result"
    }
   ],
   "source": [
    "[1,2,3,4,5,6][3:]"
   ]
  },
  {
   "cell_type": "markdown",
   "id": "52cecca4-7553-4662-85f1-8d9da26c5b22",
   "metadata": {
    "nbgrader": {
     "grade": false,
     "grade_id": "cell-2c3429381d25b239",
     "locked": true,
     "schema_version": 3,
     "solution": false,
     "task": false
    }
   },
   "source": [
    "Finally, you can output a subset between two index values by placing an index on both sides of the colon"
   ]
  },
  {
   "cell_type": "code",
   "execution_count": 72,
   "id": "f7be3e59-743f-4244-beca-69c002f7602f",
   "metadata": {
    "nbgrader": {
     "grade": false,
     "grade_id": "cell-630539419ef65f9e",
     "locked": true,
     "schema_version": 3,
     "solution": false,
     "task": false
    }
   },
   "outputs": [
    {
     "data": {
      "text/plain": [
       "('yellow', 'white')"
      ]
     },
     "execution_count": 72,
     "metadata": {},
     "output_type": "execute_result"
    }
   ],
   "source": [
    "('red', 'green', 'blue', 'yellow', 'white', 'black')[3:5]"
   ]
  },
  {
   "cell_type": "markdown",
   "id": "af71ebbb-1354-462d-b329-fa08afd546bd",
   "metadata": {
    "nbgrader": {
     "grade": false,
     "grade_id": "cell-f334961f1cb0fcb3",
     "locked": true,
     "schema_version": 3,
     "solution": false,
     "task": false
    }
   },
   "source": [
    "Note that the values at index `3` ('yellow') and `4` ('white') were output but the value at index `5` ('black') was not. This is because Python only returns the values **up to** the right hand index.\n",
    "\n",
    "For example...If I have a list `[0,1,2]` and I index the list with `[:1]` the only value that will be returned is the value at the `0` index"
   ]
  },
  {
   "cell_type": "code",
   "execution_count": 73,
   "id": "b5ebebf8-709c-4a03-be13-7828747cdb20",
   "metadata": {
    "nbgrader": {
     "grade": false,
     "grade_id": "cell-9006f5d212220a2a",
     "locked": true,
     "schema_version": 3,
     "solution": false,
     "task": false
    }
   },
   "outputs": [
    {
     "data": {
      "text/plain": [
       "[0]"
      ]
     },
     "execution_count": 73,
     "metadata": {},
     "output_type": "execute_result"
    }
   ],
   "source": [
    "[0,1,2][:1]"
   ]
  },
  {
   "cell_type": "markdown",
   "id": "cc33fa52-6eb2-4b16-a784-b109fc49c105",
   "metadata": {
    "nbgrader": {
     "grade": false,
     "grade_id": "cell-fcd9f38d5e9a9705",
     "locked": true,
     "schema_version": 3,
     "solution": false,
     "task": false
    }
   },
   "source": [
    "#### Indexing from the _end_ of the container"
   ]
  },
  {
   "cell_type": "markdown",
   "id": "955262c3-b3d2-44ec-a9ff-7e872b3e9a69",
   "metadata": {
    "nbgrader": {
     "grade": false,
     "grade_id": "cell-fd7a85e2ac8d7034",
     "locked": true,
     "schema_version": 3,
     "solution": false,
     "task": false
    }
   },
   "source": [
    "Final note (for now) on indexing...\n",
    "\n",
    "You can index from the end of the container by using _negative_ numbers starting with `-1`. \n",
    "\n",
    "![](../static/negative-indexes.png)\n",
    "\n",
    "So if I wanted to the _last_ value in a list, I can access that value with the following code:"
   ]
  },
  {
   "cell_type": "code",
   "execution_count": 66,
   "id": "d3956189-7173-4d69-a6d5-0795865d2988",
   "metadata": {
    "nbgrader": {
     "grade": false,
     "grade_id": "cell-94db19da0022c995",
     "locked": true,
     "schema_version": 3,
     "solution": false,
     "task": false
    }
   },
   "outputs": [
    {
     "data": {
      "text/plain": [
       "'black'"
      ]
     },
     "execution_count": 66,
     "metadata": {},
     "output_type": "execute_result"
    }
   ],
   "source": [
    "['red', 'green', 'blue', 'yellow', 'white', 'black'][-1]"
   ]
  },
  {
   "cell_type": "markdown",
   "id": "4aa23f0e-ae64-411f-8e5c-123a97b79abd",
   "metadata": {
    "nbgrader": {
     "grade": false,
     "grade_id": "cell-d6c99e429783a3c8",
     "locked": true,
     "schema_version": 3,
     "solution": false,
     "task": false
    }
   },
   "source": [
    "And if I wanted the last three values in the list, I can do the following:"
   ]
  },
  {
   "cell_type": "code",
   "execution_count": 69,
   "id": "4a14a57e-1a9e-4612-a872-15619d3a0d6e",
   "metadata": {
    "nbgrader": {
     "grade": false,
     "grade_id": "cell-fa4bb9bff4c31479",
     "locked": true,
     "schema_version": 3,
     "solution": false,
     "task": false
    }
   },
   "outputs": [
    {
     "data": {
      "text/plain": [
       "['yellow', 'white', 'black']"
      ]
     },
     "execution_count": 69,
     "metadata": {},
     "output_type": "execute_result"
    }
   ],
   "source": [
    "['red', 'green', 'blue', 'yellow', 'white', 'black'][-3:]"
   ]
  },
  {
   "cell_type": "markdown",
   "id": "57f06932-a091-4cc0-8123-4145cf18fdde",
   "metadata": {
    "nbgrader": {
     "grade": false,
     "grade_id": "cell-3cd11f0865527181",
     "locked": true,
     "schema_version": 3,
     "solution": false,
     "task": false
    }
   },
   "source": [
    "### Dictionaries\n",
    "\n",
    "The indexing of dictionaries has a similar syntax to lists and tuples, but instead of passing in a numeric index, you simply pass in the `key`. Returning to our dictionary of bills, you can access the electricity bill by passing the `electric` key into the square brackets."
   ]
  },
  {
   "cell_type": "code",
   "execution_count": 104,
   "id": "ae0ba9d3-dce0-444b-a087-ffefdcf0c9e5",
   "metadata": {
    "nbgrader": {
     "grade": false,
     "grade_id": "cell-3e2bb3eb83466b13",
     "locked": true,
     "schema_version": 3,
     "solution": false,
     "task": false
    }
   },
   "outputs": [
    {
     "data": {
      "text/plain": [
       "50"
      ]
     },
     "execution_count": 104,
     "metadata": {},
     "output_type": "execute_result"
    }
   ],
   "source": [
    "{\"rent\": 800, \"electric\": 50, \"gas\": 50}[\"electric\"]"
   ]
  },
  {
   "cell_type": "markdown",
   "id": "a11ed978-74de-4464-bf07-926e149514b1",
   "metadata": {
    "nbgrader": {
     "grade": false,
     "grade_id": "cell-e1b4d6501c9be4d3",
     "locked": true,
     "schema_version": 3,
     "solution": false,
     "task": false
    }
   },
   "source": [
    "## Variable Assignment\n",
    "\n",
    "Let's take a quick detour and look at how to store out datatypes in memory.\n",
    "\n",
    "_Currently_, If we were to create a string..."
   ]
  },
  {
   "cell_type": "code",
   "execution_count": 81,
   "id": "6be94c5a-e9c3-440b-85de-47a8605bf11a",
   "metadata": {
    "nbgrader": {
     "grade": false,
     "grade_id": "cell-3c0e01e691a0811c",
     "locked": true,
     "schema_version": 3,
     "solution": false,
     "task": false
    }
   },
   "outputs": [
    {
     "data": {
      "text/plain": [
       "'Hello World!'"
      ]
     },
     "execution_count": 81,
     "metadata": {},
     "output_type": "execute_result"
    }
   ],
   "source": [
    "'Hello World!'"
   ]
  },
  {
   "cell_type": "markdown",
   "id": "7c2cc32e-74b7-47d6-b5fa-76b61c014787",
   "metadata": {
    "nbgrader": {
     "grade": false,
     "grade_id": "cell-ea1cf880041edc61",
     "locked": true,
     "schema_version": 3,
     "solution": false,
     "task": false
    }
   },
   "source": [
    "We are unable to access that string in a later code cell. Not without typing every character repeatedly. But we can fix this by storing the string in memory. This is called **variable assignment**, and it's super simple. The steps are\n",
    "1. We type a variable name\n",
    "    - The variable name cannot have spaces and cannot start with a number.\n",
    "    - Typically, if a variable is more than one word, each word is seperated by an underscore `_`, but this is not required.\n",
    "2. We assign the variable name to data by placing an equal sign `=` between the variable name and the data\n",
    "\n",
    "\n",
    "**Variable assignment looks like this:**"
   ]
  },
  {
   "cell_type": "code",
   "execution_count": 82,
   "id": "45d1f396-f986-4b0d-878d-403e65c21a84",
   "metadata": {
    "nbgrader": {
     "grade": false,
     "grade_id": "cell-50b0c34aa934d5b4",
     "locked": true,
     "schema_version": 3,
     "solution": false,
     "task": false
    }
   },
   "outputs": [],
   "source": [
    "hello_world = 'Hello World!'"
   ]
  },
  {
   "cell_type": "markdown",
   "id": "4ce806e9-82a5-4fc9-912d-54b76d6b96d3",
   "metadata": {
    "nbgrader": {
     "grade": false,
     "grade_id": "cell-e4355678f3fca541",
     "locked": true,
     "schema_version": 3,
     "solution": false,
     "task": false
    }
   },
   "source": [
    "Notice that when we assign the string to a variable, nothing is outputted below the code cell. \n",
    "\n",
    "We can output whatever is stored in the variable simply by typing the variable name and running the cell..."
   ]
  },
  {
   "cell_type": "code",
   "execution_count": 83,
   "id": "de327805-f47a-4e4e-93e0-a49615ba3674",
   "metadata": {
    "nbgrader": {
     "grade": false,
     "grade_id": "cell-050ab497025a4c9e",
     "locked": true,
     "schema_version": 3,
     "solution": false,
     "task": false
    }
   },
   "outputs": [
    {
     "data": {
      "text/plain": [
       "'Hello World!'"
      ]
     },
     "execution_count": 83,
     "metadata": {},
     "output_type": "execute_result"
    }
   ],
   "source": [
    "hello_world"
   ]
  },
  {
   "cell_type": "markdown",
   "id": "1a2eaeb5-99ad-4170-a98a-ed01a5981aa5",
   "metadata": {
    "nbgrader": {
     "grade": false,
     "grade_id": "cell-d3351113f3b28664",
     "locked": true,
     "schema_version": 3,
     "solution": false,
     "task": false
    }
   },
   "source": [
    "**What just happened is really important!!**\n",
    "\n",
    "With variable assignment, we are not able to access the same string time and time again without every typing it. This opens the door for us to begin manipulating our data instead of just looking at it."
   ]
  },
  {
   "cell_type": "markdown",
   "id": "7ae304a5-b244-4351-abb4-9fe92f7cfbec",
   "metadata": {
    "nbgrader": {
     "grade": false,
     "grade_id": "cell-d9b4a0cd4d055100",
     "locked": true,
     "schema_version": 3,
     "solution": false,
     "task": false
    }
   },
   "source": [
    "## Datatype Methods\n",
    "\n",
    "All datatypes have something called **methods**\n",
    "\n",
    "**methods** are tools that come attached to a datatype. These methods complete actions that we commonly need for a certain datatype. For example, strings have methods that convert the text so every character is capitalized or lower cased. \n",
    "\n",
    "The syntax for methods is `<datatype>.<method_name>()`\n",
    "\n",
    "There are _a lot_ of methods. I write python code every day and there are still some methods I've never used. So don't expect to memorize all of them! _But_ there are a few that are very common. Let's take a look at them!"
   ]
  },
  {
   "cell_type": "markdown",
   "id": "4b13ed9f-fb95-4986-9872-9e51df9d347d",
   "metadata": {
    "nbgrader": {
     "grade": false,
     "grade_id": "cell-fa6b57d9b98f53e7",
     "locked": true,
     "schema_version": 3,
     "solution": false,
     "task": false
    }
   },
   "source": [
    "### Strings\n",
    "\n",
    "Let's return to our `hello_world` variable we defined above."
   ]
  },
  {
   "cell_type": "code",
   "execution_count": 85,
   "id": "f0a7ac16-2098-4fbe-afd8-bbdafed2a809",
   "metadata": {
    "nbgrader": {
     "grade": false,
     "grade_id": "cell-01b9ffa775bd21e7",
     "locked": true,
     "schema_version": 3,
     "solution": false,
     "task": false
    }
   },
   "outputs": [
    {
     "data": {
      "text/plain": [
       "'Hello World!'"
      ]
     },
     "execution_count": 85,
     "metadata": {},
     "output_type": "execute_result"
    }
   ],
   "source": [
    "hello_world"
   ]
  },
  {
   "cell_type": "markdown",
   "id": "ede37a5e-c3ac-4a19-96c4-3d61d1f5647e",
   "metadata": {
    "nbgrader": {
     "grade": false,
     "grade_id": "cell-89dd11d816aa7f16",
     "locked": true,
     "schema_version": 3,
     "solution": false,
     "task": false
    }
   },
   "source": [
    "With string methods, we can conver the entire string to upper case via the `.upper()` method"
   ]
  },
  {
   "cell_type": "code",
   "execution_count": 86,
   "id": "38c44683-49a1-4a47-b64c-4de04cfe45d4",
   "metadata": {
    "nbgrader": {
     "grade": false,
     "grade_id": "cell-17da0f3709b44fc3",
     "locked": true,
     "schema_version": 3,
     "solution": false,
     "task": false
    }
   },
   "outputs": [
    {
     "data": {
      "text/plain": [
       "'HELLO WORLD!'"
      ]
     },
     "execution_count": 86,
     "metadata": {},
     "output_type": "execute_result"
    }
   ],
   "source": [
    "hello_world.upper()"
   ]
  },
  {
   "cell_type": "markdown",
   "id": "c3548301-220d-4011-8d77-02ecce04f38d",
   "metadata": {
    "nbgrader": {
     "grade": false,
     "grade_id": "cell-c1912bedd1b06166",
     "locked": true,
     "schema_version": 3,
     "solution": false,
     "task": false
    }
   },
   "source": [
    "And lower case with the `.lower()` method"
   ]
  },
  {
   "cell_type": "code",
   "execution_count": 87,
   "id": "2331123c-694f-4801-a38e-5c8c5d14465f",
   "metadata": {
    "nbgrader": {
     "grade": false,
     "grade_id": "cell-ded4f290c94d58c1",
     "locked": true,
     "schema_version": 3,
     "solution": false,
     "task": false
    }
   },
   "outputs": [
    {
     "data": {
      "text/plain": [
       "'hello world!'"
      ]
     },
     "execution_count": 87,
     "metadata": {},
     "output_type": "execute_result"
    }
   ],
   "source": [
    "hello_world.lower()"
   ]
  },
  {
   "cell_type": "markdown",
   "id": "dd2377c4-b195-4c25-b97f-929741e86b50",
   "metadata": {
    "nbgrader": {
     "grade": false,
     "grade_id": "cell-1be808d891077109",
     "locked": true,
     "schema_version": 3,
     "solution": false,
     "task": false
    }
   },
   "source": [
    "We can replace certain characters with the `.replace()` method. Let's replace all the `l` characters with upper case `P`. "
   ]
  },
  {
   "cell_type": "code",
   "execution_count": 88,
   "id": "65007a9e-0742-4d61-b0a1-0561bebd0c04",
   "metadata": {
    "nbgrader": {
     "grade": false,
     "grade_id": "cell-407bbd86bb55b9c7",
     "locked": true,
     "schema_version": 3,
     "solution": false,
     "task": false
    }
   },
   "outputs": [
    {
     "data": {
      "text/plain": [
       "'HePPo WorPd!'"
      ]
     },
     "execution_count": 88,
     "metadata": {},
     "output_type": "execute_result"
    }
   ],
   "source": [
    "hello_world.replace('l', 'P')"
   ]
  },
  {
   "cell_type": "markdown",
   "id": "f6766781-6bdc-4ed2-9890-a71118f07323",
   "metadata": {
    "nbgrader": {
     "grade": false,
     "grade_id": "cell-9712e43a4608ae60",
     "locked": true,
     "schema_version": 3,
     "solution": false,
     "task": false
    }
   },
   "source": [
    "And we can split a string so each word is a seperate string with `.split()`"
   ]
  },
  {
   "cell_type": "code",
   "execution_count": 89,
   "id": "d6a579d9-7cd5-4344-aefb-640ef54e9e21",
   "metadata": {
    "nbgrader": {
     "grade": false,
     "grade_id": "cell-5207e8804d51b91e",
     "locked": true,
     "schema_version": 3,
     "solution": false,
     "task": false
    }
   },
   "outputs": [
    {
     "data": {
      "text/plain": [
       "['Hello', 'World!']"
      ]
     },
     "execution_count": 89,
     "metadata": {},
     "output_type": "execute_result"
    }
   ],
   "source": [
    "hello_world.split()"
   ]
  },
  {
   "cell_type": "markdown",
   "id": "4e0c6944-d31e-4a19-aee9-9867d1d72b74",
   "metadata": {
    "nbgrader": {
     "grade": false,
     "grade_id": "cell-2b09b6256f6b0d25",
     "locked": true,
     "schema_version": 3,
     "solution": false,
     "task": false
    }
   },
   "source": [
    "`.split()` defaults to splitting at a space character `' '`, but we can split on whatever character we want by passing the string character into the parentheses. Here is an example where we split on the `o` character."
   ]
  },
  {
   "cell_type": "code",
   "execution_count": 91,
   "id": "24f26402-dfb3-4891-9110-3836ae23a041",
   "metadata": {
    "nbgrader": {
     "grade": false,
     "grade_id": "cell-4e0d51942e63e6e5",
     "locked": true,
     "schema_version": 3,
     "solution": false,
     "task": false
    }
   },
   "outputs": [
    {
     "data": {
      "text/plain": [
       "['Hell', ' W', 'rld!']"
      ]
     },
     "execution_count": 91,
     "metadata": {},
     "output_type": "execute_result"
    }
   ],
   "source": [
    "hello_world.split('o')"
   ]
  },
  {
   "cell_type": "markdown",
   "id": "2f75d539-6614-4154-9619-9dfbccc0be89",
   "metadata": {
    "nbgrader": {
     "grade": false,
     "grade_id": "cell-8f12679ef9a1c55b",
     "locked": true,
     "schema_version": 3,
     "solution": false,
     "task": false
    }
   },
   "source": [
    "### Lists\n",
    "\n",
    "Lists have numerous methods but we will focus on a couple common methods for now. \n",
    "\n",
    "First let's assign a list to variable..."
   ]
  },
  {
   "cell_type": "code",
   "execution_count": 106,
   "id": "7f9617b3-fc3f-449f-b64d-4dfaf5abcc65",
   "metadata": {
    "nbgrader": {
     "grade": false,
     "grade_id": "cell-640883acb6daa61d",
     "locked": true,
     "schema_version": 3,
     "solution": false,
     "task": false
    }
   },
   "outputs": [],
   "source": [
    "example_list = [1,2,3]"
   ]
  },
  {
   "cell_type": "markdown",
   "id": "82aa3903-1040-480f-9da4-c5b91f470276",
   "metadata": {
    "nbgrader": {
     "grade": false,
     "grade_id": "cell-77ca043e9ae392c6",
     "locked": true,
     "schema_version": 3,
     "solution": false,
     "task": false
    }
   },
   "source": [
    "To add new data to a list, you can use the `.append()` method"
   ]
  },
  {
   "cell_type": "code",
   "execution_count": 107,
   "id": "a0d3a20a-6280-4823-96ac-487e3ceb8181",
   "metadata": {
    "nbgrader": {
     "grade": false,
     "grade_id": "cell-f2d9e3157c577b1e",
     "locked": true,
     "schema_version": 3,
     "solution": false,
     "task": false
    }
   },
   "outputs": [
    {
     "data": {
      "text/plain": [
       "[1, 2, 3, 4]"
      ]
     },
     "execution_count": 107,
     "metadata": {},
     "output_type": "execute_result"
    }
   ],
   "source": [
    "example_list.append(4) # New data is added here\n",
    "example_list # Here we output the list to confirm the data has been added"
   ]
  },
  {
   "cell_type": "markdown",
   "id": "49b2672d-1647-4573-9230-c42ee8de8bee",
   "metadata": {
    "nbgrader": {
     "grade": false,
     "grade_id": "cell-defaa0cff926562d",
     "locked": true,
     "schema_version": 3,
     "solution": false,
     "task": false
    }
   },
   "source": [
    "To remove a value from a list you can use the `.pop()` method\n",
    "\n",
    "The pop method receives an index value, and removes that value from the list. "
   ]
  },
  {
   "cell_type": "code",
   "execution_count": 110,
   "id": "6c7f342e-993b-4bc5-87ef-a12566c6fe17",
   "metadata": {
    "nbgrader": {
     "grade": false,
     "grade_id": "cell-9557ec5134eff4a6",
     "locked": true,
     "schema_version": 3,
     "solution": false,
     "task": false
    }
   },
   "outputs": [
    {
     "data": {
      "text/plain": [
       "[1, 2, 3]"
      ]
     },
     "execution_count": 110,
     "metadata": {},
     "output_type": "execute_result"
    }
   ],
   "source": [
    "example_list.pop(3)\n",
    "example_list"
   ]
  },
  {
   "cell_type": "markdown",
   "id": "377df0ee-2112-4116-a576-7c114b8215f0",
   "metadata": {
    "nbgrader": {
     "grade": false,
     "grade_id": "cell-74fdff44a0a76772",
     "locked": true,
     "schema_version": 3,
     "solution": false,
     "task": false
    }
   },
   "source": [
    "But what if we don't know the value's index? \n",
    "\n",
    "We have two options. We can use the `.remove()` method and provide the value we want to remove..."
   ]
  },
  {
   "cell_type": "code",
   "execution_count": 115,
   "id": "03710bcd-a9b5-4550-b91f-c9d81e21ea3f",
   "metadata": {
    "nbgrader": {
     "grade": false,
     "grade_id": "cell-457eeea3d256b5f2",
     "locked": true,
     "schema_version": 3,
     "solution": false,
     "task": false
    }
   },
   "outputs": [
    {
     "name": "stdout",
     "output_type": "stream",
     "text": [
      "Before .remove(): [1, 2, 3, 4]\n",
      "After  .remove(): [1, 2, 3]\n"
     ]
    }
   ],
   "source": [
    "example_list.append(4) # Add the number 4 to the list\n",
    "print(\"Before .remove():\", example_list)\n",
    "example_list.remove(4) # Remove the number 4\n",
    "print(\"After  .remove():\", example_list)"
   ]
  },
  {
   "cell_type": "markdown",
   "id": "739b7e5f-4e67-4c76-a3b1-0a9ca7004b12",
   "metadata": {
    "nbgrader": {
     "grade": false,
     "grade_id": "cell-40679ac9c4a916bf",
     "locked": true,
     "schema_version": 3,
     "solution": false,
     "task": false
    }
   },
   "source": [
    "The other option would be to find the index for the value with `.index()`"
   ]
  },
  {
   "cell_type": "code",
   "execution_count": 118,
   "id": "d2eb58ef-833d-4e4b-a6be-0fc306b80333",
   "metadata": {
    "nbgrader": {
     "grade": false,
     "grade_id": "cell-d06e043c1c20fd96",
     "locked": true,
     "schema_version": 3,
     "solution": false,
     "task": false
    }
   },
   "outputs": [
    {
     "name": "stdout",
     "output_type": "stream",
     "text": [
      "Before .pop(): [1, 2, 3, 4, 4, 4]\n",
      "`4` is at the index number 3\n",
      "After  .pop(): [1, 2, 3, 4, 4]\n"
     ]
    }
   ],
   "source": [
    "example_list.append(4) # Add the number 4 to the list\n",
    "print(\"Before .pop():\", example_list)\n",
    "index_number = example_list.index(4) # retrieve the index number\n",
    "print(f'`4` is at the index number {index_number}')\n",
    "example_list.pop(index_number) # Remove the number 4\n",
    "print(\"After  .pop():\", example_list)"
   ]
  },
  {
   "cell_type": "markdown",
   "id": "037fc9b9-77d3-4e7d-a01b-30a29ee79721",
   "metadata": {
    "nbgrader": {
     "grade": false,
     "grade_id": "cell-1acdd3aaebe441e3",
     "locked": true,
     "schema_version": 3,
     "solution": false,
     "task": false
    }
   },
   "source": [
    "## Built In Functions\n",
    "\n",
    "Python has numerous built in functions available. The ones most commonly used are \n",
    "- print\n",
    "- type\n",
    "- range"
   ]
  },
  {
   "cell_type": "markdown",
   "id": "18c17624-3952-484a-8287-52df9b478f7d",
   "metadata": {
    "nbgrader": {
     "grade": false,
     "grade_id": "cell-58ece4846fc24797",
     "locked": true,
     "schema_version": 3,
     "solution": false,
     "task": false
    }
   },
   "source": [
    "`print` does exactly what it sounds like. It prints whatever you pass into it. "
   ]
  },
  {
   "cell_type": "code",
   "execution_count": 119,
   "id": "d508967a-4a54-47de-b0fd-dc8636c9b179",
   "metadata": {
    "nbgrader": {
     "grade": false,
     "grade_id": "cell-e2cb166bb145a0e5",
     "locked": true,
     "schema_version": 3,
     "solution": false,
     "task": false
    }
   },
   "outputs": [
    {
     "name": "stdout",
     "output_type": "stream",
     "text": [
      "Hello World!\n"
     ]
    }
   ],
   "source": [
    "print(hello_world)"
   ]
  },
  {
   "cell_type": "markdown",
   "id": "b48b5619-a56d-4e3f-b4b5-22f55913001a",
   "metadata": {
    "nbgrader": {
     "grade": false,
     "grade_id": "cell-47ec923aa8be88db",
     "locked": true,
     "schema_version": 3,
     "solution": false,
     "task": false
    }
   },
   "source": [
    "> In jupyter notebooks, the difference between printing and outputting is a little difficult to recognize. The print function outputs data in a \"front end display\" format whereas outputting outputs the data in its raw form. A simple example of this is that the quotation marks are not visible in the output above whereas they are visible in the below code cell's output"
   ]
  },
  {
   "cell_type": "code",
   "execution_count": 120,
   "id": "cc05487f-ac01-4264-bd4d-9ca12524c139",
   "metadata": {
    "nbgrader": {
     "grade": false,
     "grade_id": "cell-18bb99819176eed7",
     "locked": true,
     "schema_version": 3,
     "solution": false,
     "task": false
    }
   },
   "outputs": [
    {
     "data": {
      "text/plain": [
       "'Hello World!'"
      ]
     },
     "execution_count": 120,
     "metadata": {},
     "output_type": "execute_result"
    }
   ],
   "source": [
    "hello_world"
   ]
  },
  {
   "cell_type": "markdown",
   "id": "03bb68e1-3dd3-4b24-bd65-7f9057e468ae",
   "metadata": {
    "nbgrader": {
     "grade": false,
     "grade_id": "cell-ae583e5b6d3dd7b2",
     "locked": true,
     "schema_version": 3,
     "solution": false,
     "task": false
    }
   },
   "source": [
    "`type` returns the datatype for a variable or data object"
   ]
  },
  {
   "cell_type": "code",
   "execution_count": 121,
   "id": "3eeb1c43-33e5-4e67-b6ef-b8196ebe82bc",
   "metadata": {
    "nbgrader": {
     "grade": false,
     "grade_id": "cell-844bfd145858849b",
     "locked": true,
     "schema_version": 3,
     "solution": false,
     "task": false
    }
   },
   "outputs": [
    {
     "data": {
      "text/plain": [
       "str"
      ]
     },
     "execution_count": 121,
     "metadata": {},
     "output_type": "execute_result"
    }
   ],
   "source": [
    "type(hello_world)"
   ]
  },
  {
   "cell_type": "markdown",
   "id": "286f4e51-de92-460c-ace1-04ed8e387193",
   "metadata": {
    "nbgrader": {
     "grade": false,
     "grade_id": "cell-1a37d6554010465d",
     "locked": true,
     "schema_version": 3,
     "solution": false,
     "task": false
    }
   },
   "source": [
    "`range` generates a range of numbers"
   ]
  },
  {
   "cell_type": "code",
   "execution_count": 124,
   "id": "efd14ef8-3837-4f4c-855b-86f096c54e11",
   "metadata": {
    "nbgrader": {
     "grade": false,
     "grade_id": "cell-6eb07e6abab704ad",
     "locked": true,
     "schema_version": 3,
     "solution": false,
     "task": false
    }
   },
   "outputs": [
    {
     "data": {
      "text/plain": [
       "range(0, 10)"
      ]
     },
     "execution_count": 124,
     "metadata": {},
     "output_type": "execute_result"
    }
   ],
   "source": [
    "range(10)"
   ]
  },
  {
   "cell_type": "markdown",
   "id": "e2886383-7142-4ebd-b0bd-c0d9fb07df78",
   "metadata": {
    "nbgrader": {
     "grade": false,
     "grade_id": "cell-0e6141eafa5970bc",
     "locked": true,
     "schema_version": 3,
     "solution": false,
     "task": false
    }
   },
   "source": [
    "We can convert a range to a list to see all the numbers in the range"
   ]
  },
  {
   "cell_type": "code",
   "execution_count": 125,
   "id": "5b79bc27-9a76-4c2e-9b41-896686dba798",
   "metadata": {
    "nbgrader": {
     "grade": false,
     "grade_id": "cell-286bb4456fc7956c",
     "locked": true,
     "schema_version": 3,
     "solution": false,
     "task": false
    }
   },
   "outputs": [
    {
     "data": {
      "text/plain": [
       "[0, 1, 2, 3, 4, 5, 6, 7, 8, 9]"
      ]
     },
     "execution_count": 125,
     "metadata": {},
     "output_type": "execute_result"
    }
   ],
   "source": [
    "list(range(10))"
   ]
  },
  {
   "cell_type": "markdown",
   "id": "9016f25e-8185-47f0-8676-04d823bb1fc0",
   "metadata": {
    "nbgrader": {
     "grade": false,
     "grade_id": "cell-49dbf8476dbbb3ce",
     "locked": true,
     "schema_version": 3,
     "solution": false,
     "task": false
    }
   },
   "source": [
    "Note: Like with indexing a list, a range returns **up to** the max number. The max number itself is not returned. "
   ]
  },
  {
   "cell_type": "markdown",
   "id": "e77a2cd7-0e46-4d72-8b80-fd04e4219076",
   "metadata": {
    "nbgrader": {
     "grade": false,
     "grade_id": "cell-31fa58315dfe76c2",
     "locked": true,
     "schema_version": 3,
     "solution": false,
     "task": false
    }
   },
   "source": [
    "### Conclusion\n",
    "\n",
    "We have covered **A LOT** in this notebook. My recommendation is to store this notebook in a location that is easy to find, in case you need it. Python was my first coding language, and from my own experience, you should not attempt to memorize everything covered in this lesson. With enough practice _writing_ python code, most of what is covered in this lesson will begin to naturally stick in your memory.  "
   ]
  }
 ],
 "metadata": {
  "kernelspec": {
   "display_name": "conda - base",
   "language": "python",
   "name": "base"
  },
  "language_info": {
   "codemirror_mode": {
    "name": "ipython",
    "version": 3
   },
   "file_extension": ".py",
   "mimetype": "text/x-python",
   "name": "python",
   "nbconvert_exporter": "python",
   "pygments_lexer": "ipython3",
   "version": "3.9.12"
  }
 },
 "nbformat": 4,
 "nbformat_minor": 5
}
